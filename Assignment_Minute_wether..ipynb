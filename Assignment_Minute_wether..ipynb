{
 "cells": [
  {
   "cell_type": "markdown",
   "id": "9f3887b4",
   "metadata": {},
   "source": [
    "# MinuteWeather Data Clustering using K-Means"
   ]
  },
  {
   "cell_type": "markdown",
   "id": "d327998c",
   "metadata": {},
   "source": [
    "### Minute Weather Data Description\n",
    "The minute weather dataset comes from the same source as the daily weather dataset that we used in the decision tree based classifier notebook. The main difference between these two datasets is that the minute weather dataset contains raw sensor measurements captured at one-minute intervals. Daily weather dataset instead contained processed and well curated data. The data is in the file minute_weather.csv, which is a comma-separated file.\n"
   ]
  },
  {
   "cell_type": "markdown",
   "id": "55a75022",
   "metadata": {},
   "source": [
    "### Each row in minute_weather.csv contains weather data captured for a one-minute interval. Each row, or sample, consists of the following variables:\n",
    "\n",
    "rowID: unique number for each row (Unit: NA)\n",
    "\n",
    "hpwren_timestamp: timestamp of measure (Unit: year-month-day hour:minute:second)\n",
    "\n",
    "air_pressure: air pressure measured at the timestamp (Unit: hectopascals)\n",
    "\n",
    "air_temp: air temperature measure at the timestamp (Unit: degrees Fahrenheit)\n",
    "\n",
    "avg_wind_direction: wind direction averaged over the minute before the timestamp (Unit: degrees, with 0 means coming from the North, and increasing clockwise)\n",
    "\n",
    "avg_wind_speed: wind speed averaged over the minute before the timestamp (Unit: meters per second)\n",
    "\n",
    "max_wind_direction: highest wind direction in the minute before the timestamp (Unit: degrees, with 0 being North and increasing clockwise)\n",
    "\n",
    "max_wind_speed: highest wind speed in the minute before the timestamp (Unit: meters per second)\n",
    "\n",
    "min_wind_direction: smallest wind direction in the minute before the timestamp (Unit: degrees, with 0 being North and inceasing clockwise)\n",
    "\n",
    "min_wind_speed: smallest wind speed in the minute before the timestamp (Unit: meters per second)\n",
    "\n",
    "rain_accumulation: amount of accumulated rain measured at the timestamp (Unit: millimeters)\n",
    "\n",
    "relative_humidity: relative humidity measured at the timestamp (Unit: percent)"
   ]
  },
  {
   "cell_type": "markdown",
   "id": "f6003ee5",
   "metadata": {},
   "source": [
    "### Importing the Necessary Libraries"
   ]
  },
  {
   "cell_type": "code",
   "execution_count": 1,
   "id": "0d5ffd75",
   "metadata": {},
   "outputs": [],
   "source": [
    "import pandas as pd\n",
    "import numpy as np\n",
    "from sklearn.preprocessing import StandardScaler\n",
    "from sklearn.cluster import KMeans\n",
    "from itertools import cycle, islice\n",
    "import matplotlib.pyplot as plt\n",
    "from pandas.plotting import parallel_coordinates\n",
    "\n",
    "%matplotlib inline"
   ]
  },
  {
   "cell_type": "markdown",
   "id": "1ee6319a",
   "metadata": {},
   "source": [
    "### Reading the csv file"
   ]
  },
  {
   "cell_type": "code",
   "execution_count": 4,
   "id": "ac1935b7",
   "metadata": {},
   "outputs": [],
   "source": [
    "data = pd.read_csv('D:\\\\Internships\\\\TCR Innovation\\\\Assignments\\\\minute_weather.csv\\\\minute_weather.csv')"
   ]
  },
  {
   "cell_type": "code",
   "execution_count": 5,
   "id": "8ab50c37",
   "metadata": {},
   "outputs": [
    {
     "data": {
      "text/plain": [
       "(1587257, 13)"
      ]
     },
     "execution_count": 5,
     "metadata": {},
     "output_type": "execute_result"
    }
   ],
   "source": [
    "data.shape"
   ]
  },
  {
   "cell_type": "code",
   "execution_count": 6,
   "id": "42171047",
   "metadata": {},
   "outputs": [
    {
     "data": {
      "text/html": [
       "<div>\n",
       "<style scoped>\n",
       "    .dataframe tbody tr th:only-of-type {\n",
       "        vertical-align: middle;\n",
       "    }\n",
       "\n",
       "    .dataframe tbody tr th {\n",
       "        vertical-align: top;\n",
       "    }\n",
       "\n",
       "    .dataframe thead th {\n",
       "        text-align: right;\n",
       "    }\n",
       "</style>\n",
       "<table border=\"1\" class=\"dataframe\">\n",
       "  <thead>\n",
       "    <tr style=\"text-align: right;\">\n",
       "      <th></th>\n",
       "      <th>rowID</th>\n",
       "      <th>hpwren_timestamp</th>\n",
       "      <th>air_pressure</th>\n",
       "      <th>air_temp</th>\n",
       "      <th>avg_wind_direction</th>\n",
       "      <th>avg_wind_speed</th>\n",
       "      <th>max_wind_direction</th>\n",
       "      <th>max_wind_speed</th>\n",
       "      <th>min_wind_direction</th>\n",
       "      <th>min_wind_speed</th>\n",
       "      <th>rain_accumulation</th>\n",
       "      <th>rain_duration</th>\n",
       "      <th>relative_humidity</th>\n",
       "    </tr>\n",
       "  </thead>\n",
       "  <tbody>\n",
       "    <tr>\n",
       "      <th>0</th>\n",
       "      <td>0</td>\n",
       "      <td>2011-09-10 00:00:49</td>\n",
       "      <td>912.3</td>\n",
       "      <td>64.76</td>\n",
       "      <td>97.0</td>\n",
       "      <td>1.2</td>\n",
       "      <td>106.0</td>\n",
       "      <td>1.6</td>\n",
       "      <td>85.0</td>\n",
       "      <td>1.0</td>\n",
       "      <td>NaN</td>\n",
       "      <td>NaN</td>\n",
       "      <td>60.5</td>\n",
       "    </tr>\n",
       "    <tr>\n",
       "      <th>1</th>\n",
       "      <td>1</td>\n",
       "      <td>2011-09-10 00:01:49</td>\n",
       "      <td>912.3</td>\n",
       "      <td>63.86</td>\n",
       "      <td>161.0</td>\n",
       "      <td>0.8</td>\n",
       "      <td>215.0</td>\n",
       "      <td>1.5</td>\n",
       "      <td>43.0</td>\n",
       "      <td>0.2</td>\n",
       "      <td>0.0</td>\n",
       "      <td>0.0</td>\n",
       "      <td>39.9</td>\n",
       "    </tr>\n",
       "    <tr>\n",
       "      <th>2</th>\n",
       "      <td>2</td>\n",
       "      <td>2011-09-10 00:02:49</td>\n",
       "      <td>912.3</td>\n",
       "      <td>64.22</td>\n",
       "      <td>77.0</td>\n",
       "      <td>0.7</td>\n",
       "      <td>143.0</td>\n",
       "      <td>1.2</td>\n",
       "      <td>324.0</td>\n",
       "      <td>0.3</td>\n",
       "      <td>0.0</td>\n",
       "      <td>0.0</td>\n",
       "      <td>43.0</td>\n",
       "    </tr>\n",
       "    <tr>\n",
       "      <th>3</th>\n",
       "      <td>3</td>\n",
       "      <td>2011-09-10 00:03:49</td>\n",
       "      <td>912.3</td>\n",
       "      <td>64.40</td>\n",
       "      <td>89.0</td>\n",
       "      <td>1.2</td>\n",
       "      <td>112.0</td>\n",
       "      <td>1.6</td>\n",
       "      <td>12.0</td>\n",
       "      <td>0.7</td>\n",
       "      <td>0.0</td>\n",
       "      <td>0.0</td>\n",
       "      <td>49.5</td>\n",
       "    </tr>\n",
       "    <tr>\n",
       "      <th>4</th>\n",
       "      <td>4</td>\n",
       "      <td>2011-09-10 00:04:49</td>\n",
       "      <td>912.3</td>\n",
       "      <td>64.40</td>\n",
       "      <td>185.0</td>\n",
       "      <td>0.4</td>\n",
       "      <td>260.0</td>\n",
       "      <td>1.0</td>\n",
       "      <td>100.0</td>\n",
       "      <td>0.1</td>\n",
       "      <td>0.0</td>\n",
       "      <td>0.0</td>\n",
       "      <td>58.8</td>\n",
       "    </tr>\n",
       "  </tbody>\n",
       "</table>\n",
       "</div>"
      ],
      "text/plain": [
       "   rowID     hpwren_timestamp  air_pressure  air_temp  avg_wind_direction  \\\n",
       "0      0  2011-09-10 00:00:49         912.3     64.76                97.0   \n",
       "1      1  2011-09-10 00:01:49         912.3     63.86               161.0   \n",
       "2      2  2011-09-10 00:02:49         912.3     64.22                77.0   \n",
       "3      3  2011-09-10 00:03:49         912.3     64.40                89.0   \n",
       "4      4  2011-09-10 00:04:49         912.3     64.40               185.0   \n",
       "\n",
       "   avg_wind_speed  max_wind_direction  max_wind_speed  min_wind_direction  \\\n",
       "0             1.2               106.0             1.6                85.0   \n",
       "1             0.8               215.0             1.5                43.0   \n",
       "2             0.7               143.0             1.2               324.0   \n",
       "3             1.2               112.0             1.6                12.0   \n",
       "4             0.4               260.0             1.0               100.0   \n",
       "\n",
       "   min_wind_speed  rain_accumulation  rain_duration  relative_humidity  \n",
       "0             1.0                NaN            NaN               60.5  \n",
       "1             0.2                0.0            0.0               39.9  \n",
       "2             0.3                0.0            0.0               43.0  \n",
       "3             0.7                0.0            0.0               49.5  \n",
       "4             0.1                0.0            0.0               58.8  "
      ]
     },
     "execution_count": 6,
     "metadata": {},
     "output_type": "execute_result"
    }
   ],
   "source": [
    "data.head()"
   ]
  },
  {
   "cell_type": "markdown",
   "id": "b984fa2e",
   "metadata": {},
   "source": [
    "### Lots of rows, so let us sample down by taking every 10th row."
   ]
  },
  {
   "cell_type": "code",
   "execution_count": 7,
   "id": "59294bdb",
   "metadata": {},
   "outputs": [
    {
     "data": {
      "text/plain": [
       "(158726, 13)"
      ]
     },
     "execution_count": 7,
     "metadata": {},
     "output_type": "execute_result"
    }
   ],
   "source": [
    "df = data[(data['rowID'] % 10) == 0]\n",
    "df.shape"
   ]
  },
  {
   "cell_type": "markdown",
   "id": "5c50f6b4",
   "metadata": {},
   "source": [
    "### This reduced the numbers of rows from 1,587,257 down to 158,726, with the columns remaining the same at thirteen.\n",
    "\n",
    "it is important to analyze the data and determine if there are any null values. \n",
    " \n",
    " If there are null values found, we can remove those items. \n",
    " \n",
    " In this sample data set, it is found that “rain_accumulation” and “rain_duration” contain null values. "
   ]
  },
  {
   "cell_type": "code",
   "execution_count": 12,
   "id": "05d963a7",
   "metadata": {},
   "outputs": [
    {
     "data": {
      "text/html": [
       "<div>\n",
       "<style scoped>\n",
       "    .dataframe tbody tr th:only-of-type {\n",
       "        vertical-align: middle;\n",
       "    }\n",
       "\n",
       "    .dataframe tbody tr th {\n",
       "        vertical-align: top;\n",
       "    }\n",
       "\n",
       "    .dataframe thead th {\n",
       "        text-align: right;\n",
       "    }\n",
       "</style>\n",
       "<table border=\"1\" class=\"dataframe\">\n",
       "  <thead>\n",
       "    <tr style=\"text-align: right;\">\n",
       "      <th></th>\n",
       "      <th>count</th>\n",
       "      <th>mean</th>\n",
       "      <th>std</th>\n",
       "      <th>min</th>\n",
       "      <th>25%</th>\n",
       "      <th>50%</th>\n",
       "      <th>75%</th>\n",
       "      <th>max</th>\n",
       "    </tr>\n",
       "  </thead>\n",
       "  <tbody>\n",
       "    <tr>\n",
       "      <th>rowID</th>\n",
       "      <td>158726.0</td>\n",
       "      <td>793625.000000</td>\n",
       "      <td>458203.937509</td>\n",
       "      <td>0.00</td>\n",
       "      <td>396812.5</td>\n",
       "      <td>793625.00</td>\n",
       "      <td>1190437.50</td>\n",
       "      <td>1587250.00</td>\n",
       "    </tr>\n",
       "    <tr>\n",
       "      <th>air_pressure</th>\n",
       "      <td>158726.0</td>\n",
       "      <td>916.830161</td>\n",
       "      <td>3.051717</td>\n",
       "      <td>905.00</td>\n",
       "      <td>914.8</td>\n",
       "      <td>916.70</td>\n",
       "      <td>918.70</td>\n",
       "      <td>929.50</td>\n",
       "    </tr>\n",
       "    <tr>\n",
       "      <th>air_temp</th>\n",
       "      <td>158726.0</td>\n",
       "      <td>61.851589</td>\n",
       "      <td>11.833569</td>\n",
       "      <td>31.64</td>\n",
       "      <td>52.7</td>\n",
       "      <td>62.24</td>\n",
       "      <td>70.88</td>\n",
       "      <td>99.50</td>\n",
       "    </tr>\n",
       "    <tr>\n",
       "      <th>avg_wind_direction</th>\n",
       "      <td>158680.0</td>\n",
       "      <td>162.156100</td>\n",
       "      <td>95.278201</td>\n",
       "      <td>0.00</td>\n",
       "      <td>62.0</td>\n",
       "      <td>182.00</td>\n",
       "      <td>217.00</td>\n",
       "      <td>359.00</td>\n",
       "    </tr>\n",
       "    <tr>\n",
       "      <th>avg_wind_speed</th>\n",
       "      <td>158680.0</td>\n",
       "      <td>2.775215</td>\n",
       "      <td>2.057624</td>\n",
       "      <td>0.00</td>\n",
       "      <td>1.3</td>\n",
       "      <td>2.20</td>\n",
       "      <td>3.80</td>\n",
       "      <td>31.90</td>\n",
       "    </tr>\n",
       "    <tr>\n",
       "      <th>max_wind_direction</th>\n",
       "      <td>158680.0</td>\n",
       "      <td>163.462144</td>\n",
       "      <td>92.452139</td>\n",
       "      <td>0.00</td>\n",
       "      <td>68.0</td>\n",
       "      <td>187.00</td>\n",
       "      <td>223.00</td>\n",
       "      <td>359.00</td>\n",
       "    </tr>\n",
       "    <tr>\n",
       "      <th>max_wind_speed</th>\n",
       "      <td>158680.0</td>\n",
       "      <td>3.400558</td>\n",
       "      <td>2.418802</td>\n",
       "      <td>0.10</td>\n",
       "      <td>1.6</td>\n",
       "      <td>2.70</td>\n",
       "      <td>4.60</td>\n",
       "      <td>36.00</td>\n",
       "    </tr>\n",
       "    <tr>\n",
       "      <th>min_wind_direction</th>\n",
       "      <td>158680.0</td>\n",
       "      <td>166.774017</td>\n",
       "      <td>97.441109</td>\n",
       "      <td>0.00</td>\n",
       "      <td>76.0</td>\n",
       "      <td>180.00</td>\n",
       "      <td>212.00</td>\n",
       "      <td>359.00</td>\n",
       "    </tr>\n",
       "    <tr>\n",
       "      <th>min_wind_speed</th>\n",
       "      <td>158680.0</td>\n",
       "      <td>2.134664</td>\n",
       "      <td>1.742113</td>\n",
       "      <td>0.00</td>\n",
       "      <td>0.8</td>\n",
       "      <td>1.60</td>\n",
       "      <td>3.00</td>\n",
       "      <td>31.60</td>\n",
       "    </tr>\n",
       "    <tr>\n",
       "      <th>rain_accumulation</th>\n",
       "      <td>158725.0</td>\n",
       "      <td>0.000318</td>\n",
       "      <td>0.011236</td>\n",
       "      <td>0.00</td>\n",
       "      <td>0.0</td>\n",
       "      <td>0.00</td>\n",
       "      <td>0.00</td>\n",
       "      <td>3.12</td>\n",
       "    </tr>\n",
       "    <tr>\n",
       "      <th>rain_duration</th>\n",
       "      <td>158725.0</td>\n",
       "      <td>0.409627</td>\n",
       "      <td>8.665523</td>\n",
       "      <td>0.00</td>\n",
       "      <td>0.0</td>\n",
       "      <td>0.00</td>\n",
       "      <td>0.00</td>\n",
       "      <td>2960.00</td>\n",
       "    </tr>\n",
       "    <tr>\n",
       "      <th>relative_humidity</th>\n",
       "      <td>158726.0</td>\n",
       "      <td>47.609470</td>\n",
       "      <td>26.214409</td>\n",
       "      <td>0.90</td>\n",
       "      <td>24.7</td>\n",
       "      <td>44.70</td>\n",
       "      <td>68.00</td>\n",
       "      <td>93.00</td>\n",
       "    </tr>\n",
       "  </tbody>\n",
       "</table>\n",
       "</div>"
      ],
      "text/plain": [
       "                       count           mean            std     min       25%  \\\n",
       "rowID               158726.0  793625.000000  458203.937509    0.00  396812.5   \n",
       "air_pressure        158726.0     916.830161       3.051717  905.00     914.8   \n",
       "air_temp            158726.0      61.851589      11.833569   31.64      52.7   \n",
       "avg_wind_direction  158680.0     162.156100      95.278201    0.00      62.0   \n",
       "avg_wind_speed      158680.0       2.775215       2.057624    0.00       1.3   \n",
       "max_wind_direction  158680.0     163.462144      92.452139    0.00      68.0   \n",
       "max_wind_speed      158680.0       3.400558       2.418802    0.10       1.6   \n",
       "min_wind_direction  158680.0     166.774017      97.441109    0.00      76.0   \n",
       "min_wind_speed      158680.0       2.134664       1.742113    0.00       0.8   \n",
       "rain_accumulation   158725.0       0.000318       0.011236    0.00       0.0   \n",
       "rain_duration       158725.0       0.409627       8.665523    0.00       0.0   \n",
       "relative_humidity   158726.0      47.609470      26.214409    0.90      24.7   \n",
       "\n",
       "                          50%         75%         max  \n",
       "rowID               793625.00  1190437.50  1587250.00  \n",
       "air_pressure           916.70      918.70      929.50  \n",
       "air_temp                62.24       70.88       99.50  \n",
       "avg_wind_direction     182.00      217.00      359.00  \n",
       "avg_wind_speed           2.20        3.80       31.90  \n",
       "max_wind_direction     187.00      223.00      359.00  \n",
       "max_wind_speed           2.70        4.60       36.00  \n",
       "min_wind_direction     180.00      212.00      359.00  \n",
       "min_wind_speed           1.60        3.00       31.60  \n",
       "rain_accumulation        0.00        0.00        3.12  \n",
       "rain_duration            0.00        0.00     2960.00  \n",
       "relative_humidity       44.70       68.00       93.00  "
      ]
     },
     "execution_count": 12,
     "metadata": {},
     "output_type": "execute_result"
    }
   ],
   "source": [
    "df.describe().transpose()"
   ]
  },
  {
   "cell_type": "code",
   "execution_count": 13,
   "id": "152296c0",
   "metadata": {},
   "outputs": [
    {
     "data": {
      "text/plain": [
       "(157812, 13)"
      ]
     },
     "execution_count": 13,
     "metadata": {},
     "output_type": "execute_result"
    }
   ],
   "source": [
    "df[df['rain_accumulation'] == 0].shape"
   ]
  },
  {
   "cell_type": "code",
   "execution_count": 14,
   "id": "5d7aa43d",
   "metadata": {},
   "outputs": [
    {
     "data": {
      "text/plain": [
       "(157237, 13)"
      ]
     },
     "execution_count": 14,
     "metadata": {},
     "output_type": "execute_result"
    }
   ],
   "source": [
    "df[df['rain_duration'] == 0].shape"
   ]
  },
  {
   "cell_type": "markdown",
   "id": "1714d3f4",
   "metadata": {},
   "source": [
    "#### Drop all the Rows with Empty rain_duration and rain_accumulation"
   ]
  },
  {
   "cell_type": "code",
   "execution_count": 15,
   "id": "670a17b0",
   "metadata": {},
   "outputs": [],
   "source": [
    "del df['rain_accumulation']\n",
    "del df['rain_duration']"
   ]
  },
  {
   "cell_type": "code",
   "execution_count": 17,
   "id": "5e40d2b4",
   "metadata": {},
   "outputs": [],
   "source": [
    "rows_before = df.shape[0]\n",
    "df = df.dropna()\n",
    "rows_after = df.shape[0]"
   ]
  },
  {
   "cell_type": "code",
   "execution_count": 18,
   "id": "7ef83253",
   "metadata": {},
   "outputs": [
    {
     "data": {
      "text/plain": [
       "0"
      ]
     },
     "execution_count": 18,
     "metadata": {},
     "output_type": "execute_result"
    }
   ],
   "source": [
    "rows_before - rows_after"
   ]
  },
  {
   "cell_type": "code",
   "execution_count": 19,
   "id": "d4c522e4",
   "metadata": {},
   "outputs": [
    {
     "data": {
      "text/plain": [
       "Index(['rowID', 'hpwren_timestamp', 'air_pressure', 'air_temp',\n",
       "       'avg_wind_direction', 'avg_wind_speed', 'max_wind_direction',\n",
       "       'max_wind_speed', 'min_wind_direction', 'min_wind_speed',\n",
       "       'relative_humidity'],\n",
       "      dtype='object')"
      ]
     },
     "execution_count": 19,
     "metadata": {},
     "output_type": "execute_result"
    }
   ],
   "source": [
    "df.columns"
   ]
  },
  {
   "cell_type": "markdown",
   "id": "55e46bdd",
   "metadata": {},
   "source": [
    "#### will be the process of identifying the columns of interest for clustering and then sorting them into a data frame."
   ]
  },
  {
   "cell_type": "code",
   "execution_count": 20,
   "id": "e1f1df0c",
   "metadata": {},
   "outputs": [],
   "source": [
    "features = ['air_pressure', 'air_temp', 'avg_wind_direction', 'avg_wind_speed', 'max_wind_direction', \n",
    "        'max_wind_speed','relative_humidity']"
   ]
  },
  {
   "cell_type": "code",
   "execution_count": 22,
   "id": "8424eed9",
   "metadata": {},
   "outputs": [],
   "source": [
    "select_df =df[features]"
   ]
  },
  {
   "cell_type": "code",
   "execution_count": 23,
   "id": "84a6608a",
   "metadata": {},
   "outputs": [
    {
     "data": {
      "text/plain": [
       "Index(['air_pressure', 'air_temp', 'avg_wind_direction', 'avg_wind_speed',\n",
       "       'max_wind_direction', 'max_wind_speed', 'relative_humidity'],\n",
       "      dtype='object')"
      ]
     },
     "execution_count": 23,
     "metadata": {},
     "output_type": "execute_result"
    }
   ],
   "source": [
    "select_df.columns"
   ]
  },
  {
   "cell_type": "code",
   "execution_count": 24,
   "id": "129f60e9",
   "metadata": {},
   "outputs": [
    {
     "data": {
      "text/html": [
       "<div>\n",
       "<style scoped>\n",
       "    .dataframe tbody tr th:only-of-type {\n",
       "        vertical-align: middle;\n",
       "    }\n",
       "\n",
       "    .dataframe tbody tr th {\n",
       "        vertical-align: top;\n",
       "    }\n",
       "\n",
       "    .dataframe thead th {\n",
       "        text-align: right;\n",
       "    }\n",
       "</style>\n",
       "<table border=\"1\" class=\"dataframe\">\n",
       "  <thead>\n",
       "    <tr style=\"text-align: right;\">\n",
       "      <th></th>\n",
       "      <th>air_pressure</th>\n",
       "      <th>air_temp</th>\n",
       "      <th>avg_wind_direction</th>\n",
       "      <th>avg_wind_speed</th>\n",
       "      <th>max_wind_direction</th>\n",
       "      <th>max_wind_speed</th>\n",
       "      <th>relative_humidity</th>\n",
       "    </tr>\n",
       "  </thead>\n",
       "  <tbody>\n",
       "    <tr>\n",
       "      <th>0</th>\n",
       "      <td>912.3</td>\n",
       "      <td>64.76</td>\n",
       "      <td>97.0</td>\n",
       "      <td>1.2</td>\n",
       "      <td>106.0</td>\n",
       "      <td>1.6</td>\n",
       "      <td>60.5</td>\n",
       "    </tr>\n",
       "    <tr>\n",
       "      <th>10</th>\n",
       "      <td>912.3</td>\n",
       "      <td>62.24</td>\n",
       "      <td>144.0</td>\n",
       "      <td>1.2</td>\n",
       "      <td>167.0</td>\n",
       "      <td>1.8</td>\n",
       "      <td>38.5</td>\n",
       "    </tr>\n",
       "    <tr>\n",
       "      <th>20</th>\n",
       "      <td>912.2</td>\n",
       "      <td>63.32</td>\n",
       "      <td>100.0</td>\n",
       "      <td>2.0</td>\n",
       "      <td>122.0</td>\n",
       "      <td>2.5</td>\n",
       "      <td>58.3</td>\n",
       "    </tr>\n",
       "    <tr>\n",
       "      <th>30</th>\n",
       "      <td>912.2</td>\n",
       "      <td>62.60</td>\n",
       "      <td>91.0</td>\n",
       "      <td>2.0</td>\n",
       "      <td>103.0</td>\n",
       "      <td>2.4</td>\n",
       "      <td>57.9</td>\n",
       "    </tr>\n",
       "    <tr>\n",
       "      <th>40</th>\n",
       "      <td>912.2</td>\n",
       "      <td>64.04</td>\n",
       "      <td>81.0</td>\n",
       "      <td>2.6</td>\n",
       "      <td>88.0</td>\n",
       "      <td>2.9</td>\n",
       "      <td>57.4</td>\n",
       "    </tr>\n",
       "    <tr>\n",
       "      <th>...</th>\n",
       "      <td>...</td>\n",
       "      <td>...</td>\n",
       "      <td>...</td>\n",
       "      <td>...</td>\n",
       "      <td>...</td>\n",
       "      <td>...</td>\n",
       "      <td>...</td>\n",
       "    </tr>\n",
       "    <tr>\n",
       "      <th>1587210</th>\n",
       "      <td>915.9</td>\n",
       "      <td>75.56</td>\n",
       "      <td>330.0</td>\n",
       "      <td>1.0</td>\n",
       "      <td>341.0</td>\n",
       "      <td>1.3</td>\n",
       "      <td>47.8</td>\n",
       "    </tr>\n",
       "    <tr>\n",
       "      <th>1587220</th>\n",
       "      <td>915.9</td>\n",
       "      <td>75.56</td>\n",
       "      <td>330.0</td>\n",
       "      <td>1.1</td>\n",
       "      <td>341.0</td>\n",
       "      <td>1.4</td>\n",
       "      <td>48.0</td>\n",
       "    </tr>\n",
       "    <tr>\n",
       "      <th>1587230</th>\n",
       "      <td>915.9</td>\n",
       "      <td>75.56</td>\n",
       "      <td>344.0</td>\n",
       "      <td>1.4</td>\n",
       "      <td>352.0</td>\n",
       "      <td>1.7</td>\n",
       "      <td>48.0</td>\n",
       "    </tr>\n",
       "    <tr>\n",
       "      <th>1587240</th>\n",
       "      <td>915.9</td>\n",
       "      <td>75.20</td>\n",
       "      <td>359.0</td>\n",
       "      <td>1.3</td>\n",
       "      <td>9.0</td>\n",
       "      <td>1.6</td>\n",
       "      <td>46.3</td>\n",
       "    </tr>\n",
       "    <tr>\n",
       "      <th>1587250</th>\n",
       "      <td>915.9</td>\n",
       "      <td>74.84</td>\n",
       "      <td>6.0</td>\n",
       "      <td>1.5</td>\n",
       "      <td>20.0</td>\n",
       "      <td>1.9</td>\n",
       "      <td>46.1</td>\n",
       "    </tr>\n",
       "  </tbody>\n",
       "</table>\n",
       "<p>158680 rows × 7 columns</p>\n",
       "</div>"
      ],
      "text/plain": [
       "         air_pressure  air_temp  avg_wind_direction  avg_wind_speed  \\\n",
       "0               912.3     64.76                97.0             1.2   \n",
       "10              912.3     62.24               144.0             1.2   \n",
       "20              912.2     63.32               100.0             2.0   \n",
       "30              912.2     62.60                91.0             2.0   \n",
       "40              912.2     64.04                81.0             2.6   \n",
       "...               ...       ...                 ...             ...   \n",
       "1587210         915.9     75.56               330.0             1.0   \n",
       "1587220         915.9     75.56               330.0             1.1   \n",
       "1587230         915.9     75.56               344.0             1.4   \n",
       "1587240         915.9     75.20               359.0             1.3   \n",
       "1587250         915.9     74.84                 6.0             1.5   \n",
       "\n",
       "         max_wind_direction  max_wind_speed  relative_humidity  \n",
       "0                     106.0             1.6               60.5  \n",
       "10                    167.0             1.8               38.5  \n",
       "20                    122.0             2.5               58.3  \n",
       "30                    103.0             2.4               57.9  \n",
       "40                     88.0             2.9               57.4  \n",
       "...                     ...             ...                ...  \n",
       "1587210               341.0             1.3               47.8  \n",
       "1587220               341.0             1.4               48.0  \n",
       "1587230               352.0             1.7               48.0  \n",
       "1587240                 9.0             1.6               46.3  \n",
       "1587250                20.0             1.9               46.1  \n",
       "\n",
       "[158680 rows x 7 columns]"
      ]
     },
     "execution_count": 24,
     "metadata": {},
     "output_type": "execute_result"
    }
   ],
   "source": [
    "select_df"
   ]
  },
  {
   "cell_type": "markdown",
   "id": "d4d2b5de",
   "metadata": {},
   "source": [
    "#### Scale the Features using StandardScaler"
   ]
  },
  {
   "cell_type": "code",
   "execution_count": 25,
   "id": "1794bc4d",
   "metadata": {},
   "outputs": [
    {
     "data": {
      "text/plain": [
       "array([[-1.48456281,  0.24544455, -0.68385323, ..., -0.62153592,\n",
       "        -0.74440309,  0.49233835],\n",
       "       [-1.48456281,  0.03247142, -0.19055941, ...,  0.03826701,\n",
       "        -0.66171726, -0.34710804],\n",
       "       [-1.51733167,  0.12374562, -0.65236639, ..., -0.44847286,\n",
       "        -0.37231683,  0.40839371],\n",
       "       ...,\n",
       "       [-0.30488381,  1.15818654,  1.90856325, ...,  2.0393087 ,\n",
       "        -0.70306017,  0.01538018],\n",
       "       [-0.30488381,  1.12776181,  2.06599745, ..., -1.67073075,\n",
       "        -0.74440309, -0.04948614],\n",
       "       [-0.30488381,  1.09733708, -1.63895404, ..., -1.55174989,\n",
       "        -0.62037434, -0.05711747]])"
      ]
     },
     "execution_count": 25,
     "metadata": {},
     "output_type": "execute_result"
    }
   ],
   "source": [
    "X = StandardScaler().fit_transform(select_df)\n",
    "X"
   ]
  },
  {
   "cell_type": "markdown",
   "id": "4c18fac1",
   "metadata": {},
   "source": [
    "### K-Means Clustering"
   ]
  },
  {
   "cell_type": "code",
   "execution_count": 26,
   "id": "de1c3706",
   "metadata": {},
   "outputs": [
    {
     "name": "stdout",
     "output_type": "stream",
     "text": [
      "model\n",
      " KMeans(n_clusters=12)\n"
     ]
    }
   ],
   "source": [
    "kmeans = KMeans(n_clusters=12)\n",
    "model = kmeans.fit(X)\n",
    "print(\"model\\n\", model)"
   ]
  },
  {
   "cell_type": "code",
   "execution_count": 29,
   "id": "6a886d94",
   "metadata": {},
   "outputs": [
    {
     "data": {
      "text/plain": [
       "KMeans(n_clusters=12, n_jobs=None, precompute_distances='auto', verbose=1)"
      ]
     },
     "execution_count": 29,
     "metadata": {},
     "output_type": "execute_result"
    }
   ],
   "source": [
    "model\n",
    "KMeans(algorithm='auto', copy_x=True, init='k-means++', max_iter=300,\n",
    "    n_clusters=12, n_init=10, n_jobs=None, precompute_distances='auto',\n",
    "    random_state=None, tol=0.0001, verbose=1)"
   ]
  },
  {
   "cell_type": "markdown",
   "id": "4e0735a2",
   "metadata": {},
   "source": [
    "### What are the centers of 12 clusters we formed ?"
   ]
  },
  {
   "cell_type": "code",
   "execution_count": 30,
   "id": "49edae97",
   "metadata": {},
   "outputs": [
    {
     "data": {
      "text/plain": [
       "array([[ 0.13285865,  0.84072423,  1.41119776, -0.63881568,  1.6753334 ,\n",
       "        -0.58972862, -0.71258049],\n",
       "       [-0.15958222,  0.86226619, -1.31116175, -0.58971789, -1.16682105,\n",
       "        -0.60502767, -0.64355508],\n",
       "       [-0.84033182, -1.20299331,  0.37705975,  0.39334081,  0.4751124 ,\n",
       "         0.38079415,  1.36024364],\n",
       "       [ 1.18949012, -0.25497958, -1.15500583,  2.12670827, -1.05349792,\n",
       "         2.24383423, -1.13476291],\n",
       "       [ 0.72471336,  0.43585976,  0.28552284, -0.53606206,  0.47317284,\n",
       "        -0.54225898, -0.76553329],\n",
       "       [ 1.37129639, -0.08419901, -1.20646242, -0.04459066, -1.07551806,\n",
       "        -0.02409855, -0.9779026 ],\n",
       "       [ 0.23424622,  0.32158231,  1.88796727, -0.65172676, -1.55185459,\n",
       "        -0.57666164, -0.2845489 ],\n",
       "       [-0.2093392 ,  0.63627474,  0.40869464,  0.73217001,  0.51696175,\n",
       "         0.6706394 , -0.1530126 ],\n",
       "       [ 0.05993398, -0.78761132, -1.19720398, -0.57075061, -1.04335794,\n",
       "        -0.58535746,  0.8779712 ],\n",
       "       [-1.18344984, -0.86325405,  0.44687383,  1.9916798 ,  0.5378023 ,\n",
       "         1.95213736,  0.90158872],\n",
       "       [-0.70344443,  0.53750903,  0.17580445, -0.58345001,  0.34511165,\n",
       "        -0.59697733, -0.10964194],\n",
       "       [ 0.22403792, -1.00075201,  0.65230886, -0.54508906,  0.84044023,\n",
       "        -0.52802768,  1.17035863]])"
      ]
     },
     "execution_count": 30,
     "metadata": {},
     "output_type": "execute_result"
    }
   ],
   "source": [
    "centers = model.cluster_centers_\n",
    "centers"
   ]
  },
  {
   "cell_type": "markdown",
   "id": "7c756c57",
   "metadata": {},
   "source": [
    "### Plotting Graphs"
   ]
  },
  {
   "cell_type": "code",
   "execution_count": 31,
   "id": "841aa21a",
   "metadata": {},
   "outputs": [],
   "source": [
    "# Function that creates a DataFrame with a column for Cluster Number\n",
    "\n",
    "def pd_centers(featuresUsed, centers):\n",
    "    colNames = list(featuresUsed)\n",
    "    colNames.append('prediction')\n",
    "\n",
    "    # Zip with a column called 'prediction' (index)\n",
    "    Z = [np.append(A, index) for index, A in enumerate(centers)]\n",
    "\n",
    "    # Convert to pandas data frame for plotting\n",
    "    P = pd.DataFrame(Z, columns=colNames)\n",
    "    P['prediction'] = P['prediction'].astype(int)\n",
    "    return P"
   ]
  },
  {
   "cell_type": "code",
   "execution_count": 33,
   "id": "29845bd2",
   "metadata": {},
   "outputs": [],
   "source": [
    "# Function that creates Parallel Plots\n",
    "\n",
    "def parallel_plot(data):\n",
    "    my_colors = list(islice(cycle(['b', 'r', 'g', 'y', 'k']), None, len(data)))\n",
    "    plt.figure(figsize=(15,8)).gca().axes.set_ylim([-3,+3])\n",
    "    parallel_coordinates(data, 'prediction', color = my_colors, marker='o')"
   ]
  },
  {
   "cell_type": "code",
   "execution_count": 34,
   "id": "ca4ba85e",
   "metadata": {},
   "outputs": [
    {
     "data": {
      "text/html": [
       "<div>\n",
       "<style scoped>\n",
       "    .dataframe tbody tr th:only-of-type {\n",
       "        vertical-align: middle;\n",
       "    }\n",
       "\n",
       "    .dataframe tbody tr th {\n",
       "        vertical-align: top;\n",
       "    }\n",
       "\n",
       "    .dataframe thead th {\n",
       "        text-align: right;\n",
       "    }\n",
       "</style>\n",
       "<table border=\"1\" class=\"dataframe\">\n",
       "  <thead>\n",
       "    <tr style=\"text-align: right;\">\n",
       "      <th></th>\n",
       "      <th>air_pressure</th>\n",
       "      <th>air_temp</th>\n",
       "      <th>avg_wind_direction</th>\n",
       "      <th>avg_wind_speed</th>\n",
       "      <th>max_wind_direction</th>\n",
       "      <th>max_wind_speed</th>\n",
       "      <th>relative_humidity</th>\n",
       "      <th>prediction</th>\n",
       "    </tr>\n",
       "  </thead>\n",
       "  <tbody>\n",
       "    <tr>\n",
       "      <th>0</th>\n",
       "      <td>0.132859</td>\n",
       "      <td>0.840724</td>\n",
       "      <td>1.411198</td>\n",
       "      <td>-0.638816</td>\n",
       "      <td>1.675333</td>\n",
       "      <td>-0.589729</td>\n",
       "      <td>-0.712580</td>\n",
       "      <td>0</td>\n",
       "    </tr>\n",
       "    <tr>\n",
       "      <th>1</th>\n",
       "      <td>-0.159582</td>\n",
       "      <td>0.862266</td>\n",
       "      <td>-1.311162</td>\n",
       "      <td>-0.589718</td>\n",
       "      <td>-1.166821</td>\n",
       "      <td>-0.605028</td>\n",
       "      <td>-0.643555</td>\n",
       "      <td>1</td>\n",
       "    </tr>\n",
       "    <tr>\n",
       "      <th>2</th>\n",
       "      <td>-0.840332</td>\n",
       "      <td>-1.202993</td>\n",
       "      <td>0.377060</td>\n",
       "      <td>0.393341</td>\n",
       "      <td>0.475112</td>\n",
       "      <td>0.380794</td>\n",
       "      <td>1.360244</td>\n",
       "      <td>2</td>\n",
       "    </tr>\n",
       "    <tr>\n",
       "      <th>3</th>\n",
       "      <td>1.189490</td>\n",
       "      <td>-0.254980</td>\n",
       "      <td>-1.155006</td>\n",
       "      <td>2.126708</td>\n",
       "      <td>-1.053498</td>\n",
       "      <td>2.243834</td>\n",
       "      <td>-1.134763</td>\n",
       "      <td>3</td>\n",
       "    </tr>\n",
       "    <tr>\n",
       "      <th>4</th>\n",
       "      <td>0.724713</td>\n",
       "      <td>0.435860</td>\n",
       "      <td>0.285523</td>\n",
       "      <td>-0.536062</td>\n",
       "      <td>0.473173</td>\n",
       "      <td>-0.542259</td>\n",
       "      <td>-0.765533</td>\n",
       "      <td>4</td>\n",
       "    </tr>\n",
       "    <tr>\n",
       "      <th>5</th>\n",
       "      <td>1.371296</td>\n",
       "      <td>-0.084199</td>\n",
       "      <td>-1.206462</td>\n",
       "      <td>-0.044591</td>\n",
       "      <td>-1.075518</td>\n",
       "      <td>-0.024099</td>\n",
       "      <td>-0.977903</td>\n",
       "      <td>5</td>\n",
       "    </tr>\n",
       "    <tr>\n",
       "      <th>6</th>\n",
       "      <td>0.234246</td>\n",
       "      <td>0.321582</td>\n",
       "      <td>1.887967</td>\n",
       "      <td>-0.651727</td>\n",
       "      <td>-1.551855</td>\n",
       "      <td>-0.576662</td>\n",
       "      <td>-0.284549</td>\n",
       "      <td>6</td>\n",
       "    </tr>\n",
       "    <tr>\n",
       "      <th>7</th>\n",
       "      <td>-0.209339</td>\n",
       "      <td>0.636275</td>\n",
       "      <td>0.408695</td>\n",
       "      <td>0.732170</td>\n",
       "      <td>0.516962</td>\n",
       "      <td>0.670639</td>\n",
       "      <td>-0.153013</td>\n",
       "      <td>7</td>\n",
       "    </tr>\n",
       "    <tr>\n",
       "      <th>8</th>\n",
       "      <td>0.059934</td>\n",
       "      <td>-0.787611</td>\n",
       "      <td>-1.197204</td>\n",
       "      <td>-0.570751</td>\n",
       "      <td>-1.043358</td>\n",
       "      <td>-0.585357</td>\n",
       "      <td>0.877971</td>\n",
       "      <td>8</td>\n",
       "    </tr>\n",
       "    <tr>\n",
       "      <th>9</th>\n",
       "      <td>-1.183450</td>\n",
       "      <td>-0.863254</td>\n",
       "      <td>0.446874</td>\n",
       "      <td>1.991680</td>\n",
       "      <td>0.537802</td>\n",
       "      <td>1.952137</td>\n",
       "      <td>0.901589</td>\n",
       "      <td>9</td>\n",
       "    </tr>\n",
       "    <tr>\n",
       "      <th>10</th>\n",
       "      <td>-0.703444</td>\n",
       "      <td>0.537509</td>\n",
       "      <td>0.175804</td>\n",
       "      <td>-0.583450</td>\n",
       "      <td>0.345112</td>\n",
       "      <td>-0.596977</td>\n",
       "      <td>-0.109642</td>\n",
       "      <td>10</td>\n",
       "    </tr>\n",
       "    <tr>\n",
       "      <th>11</th>\n",
       "      <td>0.224038</td>\n",
       "      <td>-1.000752</td>\n",
       "      <td>0.652309</td>\n",
       "      <td>-0.545089</td>\n",
       "      <td>0.840440</td>\n",
       "      <td>-0.528028</td>\n",
       "      <td>1.170359</td>\n",
       "      <td>11</td>\n",
       "    </tr>\n",
       "  </tbody>\n",
       "</table>\n",
       "</div>"
      ],
      "text/plain": [
       "    air_pressure  air_temp  avg_wind_direction  avg_wind_speed  \\\n",
       "0       0.132859  0.840724            1.411198       -0.638816   \n",
       "1      -0.159582  0.862266           -1.311162       -0.589718   \n",
       "2      -0.840332 -1.202993            0.377060        0.393341   \n",
       "3       1.189490 -0.254980           -1.155006        2.126708   \n",
       "4       0.724713  0.435860            0.285523       -0.536062   \n",
       "5       1.371296 -0.084199           -1.206462       -0.044591   \n",
       "6       0.234246  0.321582            1.887967       -0.651727   \n",
       "7      -0.209339  0.636275            0.408695        0.732170   \n",
       "8       0.059934 -0.787611           -1.197204       -0.570751   \n",
       "9      -1.183450 -0.863254            0.446874        1.991680   \n",
       "10     -0.703444  0.537509            0.175804       -0.583450   \n",
       "11      0.224038 -1.000752            0.652309       -0.545089   \n",
       "\n",
       "    max_wind_direction  max_wind_speed  relative_humidity  prediction  \n",
       "0             1.675333       -0.589729          -0.712580           0  \n",
       "1            -1.166821       -0.605028          -0.643555           1  \n",
       "2             0.475112        0.380794           1.360244           2  \n",
       "3            -1.053498        2.243834          -1.134763           3  \n",
       "4             0.473173       -0.542259          -0.765533           4  \n",
       "5            -1.075518       -0.024099          -0.977903           5  \n",
       "6            -1.551855       -0.576662          -0.284549           6  \n",
       "7             0.516962        0.670639          -0.153013           7  \n",
       "8            -1.043358       -0.585357           0.877971           8  \n",
       "9             0.537802        1.952137           0.901589           9  \n",
       "10            0.345112       -0.596977          -0.109642          10  \n",
       "11            0.840440       -0.528028           1.170359          11  "
      ]
     },
     "execution_count": 34,
     "metadata": {},
     "output_type": "execute_result"
    }
   ],
   "source": [
    "P = pd_centers(features, centers)\n",
    "P"
   ]
  },
  {
   "cell_type": "markdown",
   "id": "3936d8de",
   "metadata": {},
   "source": [
    "### Warm Days"
   ]
  },
  {
   "cell_type": "code",
   "execution_count": 35,
   "id": "1060044e",
   "metadata": {},
   "outputs": [
    {
     "data": {
      "image/png": "[encoded data removed]",
      "text/plain": [
       "<Figure size 1080x576 with 1 Axes>"
      ]
     },
     "metadata": {
      "needs_background": "light"
     },
     "output_type": "display_data"
    }
   ],
   "source": [
    "parallel_plot(P[P['air_temp'] > 0.5])"
   ]
  },
  {
   "cell_type": "markdown",
   "id": "6817db42",
   "metadata": {},
   "source": [
    "### Cool Days"
   ]
  },
  {
   "cell_type": "code",
   "execution_count": 36,
   "id": "2251845c",
   "metadata": {},
   "outputs": [
    {
     "data": {
      "image/png": "[encoded data removed]",
      "text/plain": [
       "<Figure size 1080x576 with 1 Axes>"
      ]
     },
     "metadata": {
      "needs_background": "light"
     },
     "output_type": "display_data"
    }
   ],
   "source": [
    "parallel_plot(P[(P['relative_humidity'] > 0.5) & (P['air_temp'] < 0.5)])"
   ]
  },
  {
   "cell_type": "markdown",
   "id": "866e8d77",
   "metadata": {},
   "source": [
    "### Dry Days"
   ]
  },
  {
   "cell_type": "code",
   "execution_count": 37,
   "id": "12fd4295",
   "metadata": {},
   "outputs": [
    {
     "data": {
      "image/png": "[encoded data removed]",
      "text/plain": [
       "<Figure size 1080x576 with 1 Axes>"
      ]
     },
     "metadata": {
      "needs_background": "light"
     },
     "output_type": "display_data"
    }
   ],
   "source": [
    "parallel_plot(P[P['relative_humidity'] < -0.5])"
   ]
  },
  {
   "cell_type": "code",
   "execution_count": null,
   "id": "4a9e2aa6",
   "metadata": {},
   "outputs": [],
   "source": []
  }
 ],
 "metadata": {
  "kernelspec": {
   "display_name": "Python 3",
   "language": "python",
   "name": "python3"
  },
  "language_info": {
   "codemirror_mode": {
    "name": "ipython",
    "version": 3
   },
   "file_extension": ".py",
   "mimetype": "text/x-python",
   "name": "python",
   "nbconvert_exporter": "python",
   "pygments_lexer": "ipython3",
   "version": "3.8.8"
  }
 },
 "nbformat": 4,
 "nbformat_minor": 5
}
